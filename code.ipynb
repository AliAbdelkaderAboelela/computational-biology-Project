{
 "cells": [
  {
   "cell_type": "code",
   "execution_count": 1,
   "id": "7a3cdec3",
   "metadata": {
    "scrolled": true
   },
   "outputs": [],
   "source": [
    "from urllib.request import urlretrieve\n",
    "from pyopenms import *\n",
    "from matplotlib import pyplot as plt\n",
    "\n",
    "exp = MSExperiment()\n",
    "MzMLFile().load(\"20201019_Syam_Spl8.mzML\", exp)\n",
    "\n",
    "protein_ids = []\n",
    "peptide_ids = []\n",
    "SimpleSearchEngineAlgorithm().search(\"20201019_Syam_Spl8.mzML\", \"uniprot-yourlist_M202201075BF3C56A578D7D6DFD1FC81EE5DA77303B8A7BC.fasta\", protein_ids,\n",
    "                                     peptide_ids)\n",
    "spectra = exp.getSpectra()\n",
    "\n",
    "\n",
    "def mirror_plot(obs_mz, obs_int, theo_mz, theo_int, title):\n",
    "    obs_int = [element / max(obs_int) for element in obs_int]  # relative intenstiy\n",
    "    theo_int = [element * -1 for element in theo_int]  # invert the intensity for the mirror plot\n",
    "    plt.figure(figsize=(12, 8))\n",
    "    plt.bar(obs_mz, obs_int, width=3.0)\n",
    "    plt.bar(theo_mz, theo_int, width=3.0)\n",
    "    plt.title(title)\n",
    "    annot = thspec.getStringDataArrays()[0]\n",
    "    bars = plt.bar(obs_mz, obs_int, snap=False)  # snap ensures that all bars are rendered\n",
    "    idx = 0\n",
    "    for rect in bars:\n",
    "        height = rect.get_height()\n",
    "        plt.text(rect.get_x() + rect.get_width() / 2.0, height, annot[idx].decode(), ha='center', va='bottom',\n",
    "                 rotation=90)\n",
    "        idx += 1\n",
    "    plt.ylim(top=1.2)\n",
    "\n",
    "    plt.ylabel('intensity')\n",
    "    plt.xlabel('m/z')\n",
    "    plt.show()\n",
    "\n"
   ]
  },
  {
   "cell_type": "code",
   "execution_count": 7,
   "id": "f720848a",
   "metadata": {
    "collapsed": true
   },
   "outputs": [
    {
     "name": "stdout",
     "output_type": "stream",
     "text": [
      "===================================\n",
      "Peptide ID m/z: 404.204895019531\n",
      "Peptide ID rt: 1040.43476859102\n",
      "Peptide scan index: 1191\n",
      "Peptide scan name: 1191\n",
      "Peptide ID score type: hyperscore\n",
      " - Peptide hit rank: 1\n",
      " - Peptide hit charge: 2\n",
      " - Peptide hit sequence: VSTQNMK\n",
      " - Peptide hit monoisotopic m/z: 404.20509775687094\n",
      " - Peptide ppm error: 0.5015704676754449\n",
      " - Peptide hit score: 0.052669622004032135\n",
      "Number of matched peaks: 1\n",
      "ion\ttheo. m/z\tobserved m/z\n",
      "y6+\t1\t708.3345047598709\t708.0750732421875\n"
     ]
    },
    {
     "data": {
      "image/png": "[encoded data removed]",
      "text/plain": [
       "<Figure size 864x576 with 1 Axes>"
      ]
     },
     "metadata": {
      "needs_background": "light"
     },
     "output_type": "display_data"
    },
    {
     "name": "stdout",
     "output_type": "stream",
     "text": [
      "===================================\n",
      "Peptide ID m/z: 536.293273925781\n",
      "Peptide ID rt: 1234.41334339098\n",
      "Peptide scan index: 1578\n",
      "Peptide scan name: 1578\n",
      "Peptide ID score type: hyperscore\n",
      " - Peptide hit rank: 1\n",
      " - Peptide hit charge: 2\n",
      " - Peptide hit sequence: VVAIYDYTK\n",
      " - Peptide hit monoisotopic m/z: 536.289685210871\n",
      " - Peptide ppm error: 6.691747033397918\n",
      " - Peptide hit score: 0.2191787213087082\n",
      "Number of matched peaks: 14\n",
      "ion\ttheo. m/z\tobserved m/z\n",
      "b4+\t1\t383.265283551371\t383.0940793567949\n",
      "y6++\t2\t401.702713844021\t401.7886352537554\n",
      "y3+\t1\t411.223813423771\t411.1812334578517\n",
      "b7++\t2\t412.713081375921\t412.82329697655746\n",
      "y7++\t2\t437.221270923771\t437.01159867123215\n",
      "b8++\t2\t463.23692098757095\t463.2492830629939\n",
      "y8++\t2\t486.755478067321\t487.2484811997973\n",
      "y4+\t1\t526.2507575832709\t525.7974573631823\n",
      "b6+\t1\t661.3555569979709\t661.60551674019\n",
      "y5+\t1\t689.3140868703708\t689.6557397411141\n",
      "y6+\t1\t802.3981512212708\t802.6924481715047\n",
      "b7+\t1\t824.4188862850708\t824.559214770902\n",
      "y7+\t1\t873.4352653807708\t873.4778182102723\n",
      "y8+\t1\t972.5036796678709\t972.070206330038\n"
     ]
    },
    {
     "ename": "ZeroDivisionError",
     "evalue": "float division by zero",
     "output_type": "error",
     "traceback": [
      "\u001b[1;31m---------------------------------------------------------------------------\u001b[0m",
      "\u001b[1;31mZeroDivisionError\u001b[0m                         Traceback (most recent call last)",
      "\u001b[1;32m~\\AppData\\Local\\Temp/ipykernel_8000/259826596.py\u001b[0m in \u001b[0;36m<module>\u001b[1;34m\u001b[0m\n\u001b[0;32m     55\u001b[0m             \u001b[0mobs_int\u001b[0m\u001b[1;33m.\u001b[0m\u001b[0mappend\u001b[0m\u001b[1;33m(\u001b[0m\u001b[0mexp_spec\u001b[0m\u001b[1;33m[\u001b[0m\u001b[0mobs_idx\u001b[0m\u001b[1;33m]\u001b[0m\u001b[1;33m.\u001b[0m\u001b[0mgetIntensity\u001b[0m\u001b[1;33m(\u001b[0m\u001b[1;33m)\u001b[0m\u001b[1;33m)\u001b[0m\u001b[1;33m\u001b[0m\u001b[1;33m\u001b[0m\u001b[0m\n\u001b[0;32m     56\u001b[0m         \u001b[1;32mif\u001b[0m \u001b[0mobs_int\u001b[0m\u001b[1;33m==\u001b[0m\u001b[1;36m0\u001b[0m\u001b[1;33m:\u001b[0m\u001b[1;32mcontinue\u001b[0m\u001b[1;33m\u001b[0m\u001b[1;33m\u001b[0m\u001b[0m\n\u001b[1;32m---> 57\u001b[1;33m         \u001b[0mmirror_plot\u001b[0m\u001b[1;33m(\u001b[0m\u001b[0mobs_mz\u001b[0m\u001b[1;33m,\u001b[0m \u001b[0mobs_int\u001b[0m\u001b[1;33m,\u001b[0m \u001b[0mtheo_mz\u001b[0m\u001b[1;33m,\u001b[0m \u001b[0mtheo_int\u001b[0m\u001b[1;33m,\u001b[0m \u001b[0mtitle\u001b[0m\u001b[1;33m)\u001b[0m\u001b[1;33m\u001b[0m\u001b[1;33m\u001b[0m\u001b[0m\n\u001b[0m",
      "\u001b[1;32m~\\AppData\\Local\\Temp/ipykernel_8000/866337129.py\u001b[0m in \u001b[0;36mmirror_plot\u001b[1;34m(obs_mz, obs_int, theo_mz, theo_int, title)\u001b[0m\n\u001b[0;32m     14\u001b[0m \u001b[1;33m\u001b[0m\u001b[0m\n\u001b[0;32m     15\u001b[0m \u001b[1;32mdef\u001b[0m \u001b[0mmirror_plot\u001b[0m\u001b[1;33m(\u001b[0m\u001b[0mobs_mz\u001b[0m\u001b[1;33m,\u001b[0m \u001b[0mobs_int\u001b[0m\u001b[1;33m,\u001b[0m \u001b[0mtheo_mz\u001b[0m\u001b[1;33m,\u001b[0m \u001b[0mtheo_int\u001b[0m\u001b[1;33m,\u001b[0m \u001b[0mtitle\u001b[0m\u001b[1;33m)\u001b[0m\u001b[1;33m:\u001b[0m\u001b[1;33m\u001b[0m\u001b[1;33m\u001b[0m\u001b[0m\n\u001b[1;32m---> 16\u001b[1;33m     \u001b[0mobs_int\u001b[0m \u001b[1;33m=\u001b[0m \u001b[1;33m[\u001b[0m\u001b[0melement\u001b[0m \u001b[1;33m/\u001b[0m \u001b[0mmax\u001b[0m\u001b[1;33m(\u001b[0m\u001b[0mobs_int\u001b[0m\u001b[1;33m)\u001b[0m \u001b[1;32mfor\u001b[0m \u001b[0melement\u001b[0m \u001b[1;32min\u001b[0m \u001b[0mobs_int\u001b[0m\u001b[1;33m]\u001b[0m  \u001b[1;31m# relative intenstiy\u001b[0m\u001b[1;33m\u001b[0m\u001b[1;33m\u001b[0m\u001b[0m\n\u001b[0m\u001b[0;32m     17\u001b[0m     \u001b[0mtheo_int\u001b[0m \u001b[1;33m=\u001b[0m \u001b[1;33m[\u001b[0m\u001b[0melement\u001b[0m \u001b[1;33m*\u001b[0m \u001b[1;33m-\u001b[0m\u001b[1;36m1\u001b[0m \u001b[1;32mfor\u001b[0m \u001b[0melement\u001b[0m \u001b[1;32min\u001b[0m \u001b[0mtheo_int\u001b[0m\u001b[1;33m]\u001b[0m  \u001b[1;31m# invert the intensity for the mirror plot\u001b[0m\u001b[1;33m\u001b[0m\u001b[1;33m\u001b[0m\u001b[0m\n\u001b[0;32m     18\u001b[0m     \u001b[0mplt\u001b[0m\u001b[1;33m.\u001b[0m\u001b[0mfigure\u001b[0m\u001b[1;33m(\u001b[0m\u001b[0mfigsize\u001b[0m\u001b[1;33m=\u001b[0m\u001b[1;33m(\u001b[0m\u001b[1;36m12\u001b[0m\u001b[1;33m,\u001b[0m \u001b[1;36m8\u001b[0m\u001b[1;33m)\u001b[0m\u001b[1;33m)\u001b[0m\u001b[1;33m\u001b[0m\u001b[1;33m\u001b[0m\u001b[0m\n",
      "\u001b[1;32m~\\AppData\\Local\\Temp/ipykernel_8000/866337129.py\u001b[0m in \u001b[0;36m<listcomp>\u001b[1;34m(.0)\u001b[0m\n\u001b[0;32m     14\u001b[0m \u001b[1;33m\u001b[0m\u001b[0m\n\u001b[0;32m     15\u001b[0m \u001b[1;32mdef\u001b[0m \u001b[0mmirror_plot\u001b[0m\u001b[1;33m(\u001b[0m\u001b[0mobs_mz\u001b[0m\u001b[1;33m,\u001b[0m \u001b[0mobs_int\u001b[0m\u001b[1;33m,\u001b[0m \u001b[0mtheo_mz\u001b[0m\u001b[1;33m,\u001b[0m \u001b[0mtheo_int\u001b[0m\u001b[1;33m,\u001b[0m \u001b[0mtitle\u001b[0m\u001b[1;33m)\u001b[0m\u001b[1;33m:\u001b[0m\u001b[1;33m\u001b[0m\u001b[1;33m\u001b[0m\u001b[0m\n\u001b[1;32m---> 16\u001b[1;33m     \u001b[0mobs_int\u001b[0m \u001b[1;33m=\u001b[0m \u001b[1;33m[\u001b[0m\u001b[0melement\u001b[0m \u001b[1;33m/\u001b[0m \u001b[0mmax\u001b[0m\u001b[1;33m(\u001b[0m\u001b[0mobs_int\u001b[0m\u001b[1;33m)\u001b[0m \u001b[1;32mfor\u001b[0m \u001b[0melement\u001b[0m \u001b[1;32min\u001b[0m \u001b[0mobs_int\u001b[0m\u001b[1;33m]\u001b[0m  \u001b[1;31m# relative intenstiy\u001b[0m\u001b[1;33m\u001b[0m\u001b[1;33m\u001b[0m\u001b[0m\n\u001b[0m\u001b[0;32m     17\u001b[0m     \u001b[0mtheo_int\u001b[0m \u001b[1;33m=\u001b[0m \u001b[1;33m[\u001b[0m\u001b[0melement\u001b[0m \u001b[1;33m*\u001b[0m \u001b[1;33m-\u001b[0m\u001b[1;36m1\u001b[0m \u001b[1;32mfor\u001b[0m \u001b[0melement\u001b[0m \u001b[1;32min\u001b[0m \u001b[0mtheo_int\u001b[0m\u001b[1;33m]\u001b[0m  \u001b[1;31m# invert the intensity for the mirror plot\u001b[0m\u001b[1;33m\u001b[0m\u001b[1;33m\u001b[0m\u001b[0m\n\u001b[0;32m     18\u001b[0m     \u001b[0mplt\u001b[0m\u001b[1;33m.\u001b[0m\u001b[0mfigure\u001b[0m\u001b[1;33m(\u001b[0m\u001b[0mfigsize\u001b[0m\u001b[1;33m=\u001b[0m\u001b[1;33m(\u001b[0m\u001b[1;36m12\u001b[0m\u001b[1;33m,\u001b[0m \u001b[1;36m8\u001b[0m\u001b[1;33m)\u001b[0m\u001b[1;33m)\u001b[0m\u001b[1;33m\u001b[0m\u001b[1;33m\u001b[0m\u001b[0m\n",
      "\u001b[1;31mZeroDivisionError\u001b[0m: float division by zero"
     ]
    }
   ],
   "source": [
    "for peptide_id in peptide_ids:\n",
    "    # Peptide identification values\n",
    "    print(35 * \"=\")\n",
    "    print(\"Peptide ID m/z:\", peptide_id.getMZ())\n",
    "    print(\"Peptide ID rt:\", peptide_id.getRT())\n",
    "    print(\"Peptide scan index:\", peptide_id.getMetaValue(\"scan_index\"))\n",
    "    print(\"Peptide scan name:\", peptide_id.getMetaValue(\"scan_index\"))\n",
    "    print(\"Peptide ID score type:\", peptide_id.getScoreType())\n",
    "    # PeptideHits\n",
    "    for hit in peptide_id.getHits():\n",
    "        print(\" - Peptide hit rank:\", hit.getRank())\n",
    "        print(\" - Peptide hit charge:\", hit.getCharge())\n",
    "        print(\" - Peptide hit sequence:\", hit.getSequence())\n",
    "        mz = hit.getSequence().getMonoWeight(Residue.ResidueType.Full, hit.getCharge()) / hit.getCharge()\n",
    "        print(\" - Peptide hit monoisotopic m/z:\", mz)\n",
    "        print(\" - Peptide ppm error:\", abs(mz - peptide_id.getMZ()) / mz * 10 ** 6)\n",
    "        print(\" - Peptide hit score:\", hit.getScore())\n",
    "        tsg = TheoreticalSpectrumGenerator()\n",
    "        thspec = MSSpectrum()\n",
    "        p = Param()\n",
    "        p.setValue(\"add_y_ions\", \"true\")\n",
    "        p.setValue(\"add_b_ions\", \"true\")\n",
    "        p.setValue(\"add_metainfo\", \"true\")\n",
    "        tsg.setParameters(p)\n",
    "        a = str(hit.getSequence())\n",
    "        peptide = AASequence.fromString(a)\n",
    "        tsg.getSpectrum(thspec, peptide, 1, 2)\n",
    "\n",
    "################################################################################################\n",
    "        #allignment code\n",
    "        exp_spec = exp.getSpectrum(peptide_id.getMetaValue(\"scan_index\"))\n",
    "        alignment = []\n",
    "        spa = SpectrumAlignment()\n",
    "        p = spa.getParameters()\n",
    "        p.setValue(\"tolerance\", 0.5)\n",
    "        p.setValue(\"is_relative_tolerance\", \"false\")\n",
    "        spa.setParameters(p)\n",
    "        spa.getSpectrumAlignment(alignment, thspec, exp_spec)\n",
    "        print(\"Number of matched peaks: \" + str(len(alignment)))\n",
    "        print(\"ion\\ttheo. m/z\\tobserved m/z\")\n",
    "\n",
    "        for theo_idx, obs_idx in alignment:\n",
    "            ion_name = thspec.getStringDataArrays()[0][theo_idx].decode()\n",
    "            ion_charge = thspec.getIntegerDataArrays()[0][theo_idx]\n",
    "            print(ion_name + \"\\t\" + str(ion_charge) + \"\\t\" + str(thspec[theo_idx].getMZ()) + \"\\t\" + str(\n",
    "                exp_spec[obs_idx].getMZ()))\n",
    "\n",
    "        theo_mz, theo_int, obs_mz, obs_int = [], [], [], []\n",
    "        b = str(peptide_id.getMetaValue(\"scan_index\"))\n",
    "        title = a + \"  \" + b\n",
    "        for theo_idx, obs_idx in alignment:\n",
    "            theo_mz.append(thspec[theo_idx].getMZ())\n",
    "            theo_int.append(thspec[theo_idx].getIntensity())\n",
    "            obs_mz.append(exp_spec[obs_idx].getMZ())\n",
    "            obs_int.append(exp_spec[obs_idx].getIntensity())\n",
    "        if obs_int==0:continue\n",
    "        mirror_plot(obs_mz, obs_int, theo_mz, theo_int, title)"
   ]
  },
  {
   "cell_type": "code",
   "execution_count": null,
   "id": "4726aab2",
   "metadata": {},
   "outputs": [],
   "source": []
  },
  {
   "cell_type": "code",
   "execution_count": null,
   "id": "ae7fceff",
   "metadata": {},
   "outputs": [],
   "source": []
  }
 ],
 "metadata": {
  "kernelspec": {
   "display_name": "Python 3 (ipykernel)",
   "language": "python",
   "name": "python3"
  },
  "language_info": {
   "codemirror_mode": {
    "name": "ipython",
    "version": 3
   },
   "file_extension": ".py",
   "mimetype": "text/x-python",
   "name": "python",
   "nbconvert_exporter": "python",
   "pygments_lexer": "ipython3",
   "version": "3.9.7"
  }
 },
 "nbformat": 4,
 "nbformat_minor": 5
}
